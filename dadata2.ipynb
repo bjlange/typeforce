{
 "cells": [
  {
   "cell_type": "code",
   "execution_count": 1,
   "metadata": {
    "colab": {
     "autoexec": {
      "startup": false,
      "wait_interval": 0
     }
    },
    "colab_type": "code",
    "id": "tDRUWlYK7xZf"
   },
   "outputs": [
    {
     "name": "stderr",
     "output_type": "stream",
     "text": [
      "Using TensorFlow backend.\n"
     ]
    }
   ],
   "source": [
    "%matplotlib inline\n",
    "import pandas as pd\n",
    "import numpy as np\n",
    "from keras.utils import to_categorical\n",
    "from keras.preprocessing.sequence import pad_sequences\n",
    "from keras.layers import Dense, LSTM, TimeDistributed, Concatenate\n",
    "import keras\n",
    "from sklearn.preprocessing import StandardScaler, MinMaxScaler"
   ]
  },
  {
   "cell_type": "code",
   "execution_count": 16,
   "metadata": {},
   "outputs": [],
   "source": [
    "def convert_to_padded_seqs(df):\n",
    "    seqs = []\n",
    "    subseq = []\n",
    "    for ix, row in df.iterrows():\n",
    "        if row['seq'] == 1 and subseq != []:\n",
    "            seqs.append(subseq)\n",
    "            subseq = []\n",
    "        row = row.drop('seq')\n",
    "        subseq.append(list(row.values))\n",
    "    sequences = pad_sequences(seqs, padding='post', dtype='float64')\n",
    "    return sequences"
   ]
  },
  {
   "cell_type": "code",
   "execution_count": 17,
   "metadata": {},
   "outputs": [],
   "source": [
    "def fix_angle(angle):\n",
    "    if angle > 180.0:\n",
    "        return 360.0 - angle \n",
    "    elif angle == 0:\n",
    "        return 0.0\n",
    "    else:\n",
    "        return -angle"
   ]
  },
  {
   "cell_type": "code",
   "execution_count": 18,
   "metadata": {
    "colab": {
     "autoexec": {
      "startup": false,
      "wait_interval": 0
     },
     "base_uri": "https://localhost:8080/",
     "height": 109,
     "output_extras": [
      {
       "item_id": 1
      }
     ]
    },
    "colab_type": "code",
    "executionInfo": {
     "elapsed": 1170,
     "status": "ok",
     "timestamp": 1518069819454,
     "user": {
      "displayName": "Brian Lange",
      "photoUrl": "//lh3.googleusercontent.com/-_pEZMVY9LEU/AAAAAAAAAAI/AAAAAAAAAAc/huFdI_wTUWk/s50-c-k-no/photo.jpg",
      "userId": "106630549821880114703"
     },
     "user_tz": 360
    },
    "id": "g-n1hOtx8osT",
    "outputId": "e844d584-5783-438c-8093-f83cd41fe314"
   },
   "outputs": [],
   "source": [
    "# Convert to a DataFrame and render.\n",
    "import pandas as pd\n",
    "df = pd.read_csv('app/data-capture-2-7-940.csv')\n",
    "df.drop(['NOTES:', 'Unnamed: 11', 'Unnamed: 12', 'alignment'], axis=1, inplace=True)\n",
    "df = df.rename(columns={\n",
    "      \"xxz\": \"seq\",\n",
    "      \"x (out of 300)\": \"x\",\n",
    "      \"y (out of 400)\": \"y\",\n",
    "      \"# of characters\": \"chars\",\n",
    "      \"font size\": \"font_size\",\n",
    "      \"# of words\": 'words',\n",
    "      \"lines of text\": 'lines',\n",
    "      \"caps or lowercase\": 'caps'\n",
    "    })\n",
    "df['weight'] = df['font weight'].apply(lambda x: x.split(' ')[-1])\n",
    "df['condensed'] = df['font weight'].str.contains('condensed').astype(int)\n",
    "df.drop('font weight', axis=1, inplace=True)\n",
    "df = df.replace(\n",
    "    {'weight':{\n",
    "        'light': 0,\n",
    "        'regular': 1,\n",
    "        'medium': 2,\n",
    "        'bold': 3\n",
    "     },\n",
    "     'caps': {\n",
    "         'C': 1,\n",
    "         'L': 0\n",
    "     }\n",
    "})\n",
    "continuous_vars = ['seq','x', 'y', 'rotation', 'font_size', 'chars', 'lines']\n",
    "df.rotation = df.rotation.apply(fix_angle)\n",
    "df = df[continuous_vars]"
   ]
  },
  {
   "cell_type": "code",
   "execution_count": 180,
   "metadata": {},
   "outputs": [],
   "source": [
    "def scale_df_minmax(df):\n",
    "    scaler = StandardScaler()\n",
    "    scaled = scaler.fit_transform(df.iloc[:,1:])\n",
    "    return pd.concat([df.iloc[:,0], pd.DataFrame(scaled)], axis=1), scaler"
   ]
  },
  {
   "cell_type": "code",
   "execution_count": 181,
   "metadata": {
    "colab": {
     "autoexec": {
      "startup": false,
      "wait_interval": 0
     },
     "base_uri": "https://localhost:8080/",
     "height": 109,
     "output_extras": [
      {
       "item_id": 1
      }
     ]
    },
    "colab_type": "code",
    "executionInfo": {
     "elapsed": 1170,
     "status": "ok",
     "timestamp": 1518069819454,
     "user": {
      "displayName": "Brian Lange",
      "photoUrl": "//lh3.googleusercontent.com/-_pEZMVY9LEU/AAAAAAAAAAI/AAAAAAAAAAc/huFdI_wTUWk/s50-c-k-no/photo.jpg",
      "userId": "106630549821880114703"
     },
     "user_tz": 360
    },
    "id": "g-n1hOtx8osT",
    "outputId": "e844d584-5783-438c-8093-f83cd41fe314"
   },
   "outputs": [],
   "source": [
    "scaled, scaler = scale_df_minmax(df)\n",
    "keras_ready = convert_to_padded_seqs(scaled)"
   ]
  },
  {
   "cell_type": "code",
   "execution_count": 190,
   "metadata": {},
   "outputs": [
    {
     "name": "stderr",
     "output_type": "stream",
     "text": [
      "/Users/brian/.virtualenvs/typeforce/lib/python3.6/site-packages/ipykernel_launcher.py:4: UserWarning: Update your `Model` call to the Keras 2 API: `Model(inputs=Tensor(\"in..., outputs=Tensor(\"ti...)`\n",
      "  after removing the cwd from sys.path.\n"
     ]
    }
   ],
   "source": [
    "inp = keras.Input((None, 6))\n",
    "rnn = LSTM(16, activation='tanh', dropout=.5, return_sequences=True)(inp)\n",
    "dense = TimeDistributed(Dense(6, activation='linear'))(rnn)\n",
    "model = keras.models.Model(input=inp, output=dense)\n",
    "model.compile(loss='mean_squared_error',\n",
    "              optimizer='adam')"
   ]
  },
  {
   "cell_type": "code",
   "execution_count": 191,
   "metadata": {},
   "outputs": [
    {
     "name": "stdout",
     "output_type": "stream",
     "text": [
      "Epoch 1/18\n",
      "14/14 [==============================] - 2s 149ms/step - loss: 0.6229\n",
      "Epoch 2/18\n",
      "14/14 [==============================] - 0s 13ms/step - loss: 0.6023\n",
      "Epoch 3/18\n",
      "14/14 [==============================] - 0s 13ms/step - loss: 0.6090\n",
      "Epoch 4/18\n",
      "14/14 [==============================] - 0s 13ms/step - loss: 0.5921\n",
      "Epoch 5/18\n",
      "14/14 [==============================] - 0s 13ms/step - loss: 0.5906\n",
      "Epoch 6/18\n",
      "14/14 [==============================] - 0s 14ms/step - loss: 0.5866\n",
      "Epoch 7/18\n",
      "14/14 [==============================] - 0s 15ms/step - loss: 0.5693\n",
      "Epoch 8/18\n",
      "14/14 [==============================] - 0s 14ms/step - loss: 0.5577\n",
      "Epoch 9/18\n",
      "14/14 [==============================] - 0s 14ms/step - loss: 0.5627\n",
      "Epoch 10/18\n",
      "14/14 [==============================] - 0s 14ms/step - loss: 0.5525\n",
      "Epoch 11/18\n",
      "14/14 [==============================] - 0s 14ms/step - loss: 0.5430\n",
      "Epoch 12/18\n",
      "14/14 [==============================] - 0s 14ms/step - loss: 0.5552\n",
      "Epoch 13/18\n",
      "14/14 [==============================] - 0s 14ms/step - loss: 0.5376\n",
      "Epoch 14/18\n",
      "14/14 [==============================] - 0s 14ms/step - loss: 0.5342\n",
      "Epoch 15/18\n",
      "14/14 [==============================] - 0s 13ms/step - loss: 0.5388\n",
      "Epoch 16/18\n",
      "14/14 [==============================] - 0s 14ms/step - loss: 0.5278\n",
      "Epoch 17/18\n",
      "14/14 [==============================] - 0s 17ms/step - loss: 0.5322\n",
      "Epoch 18/18\n",
      "14/14 [==============================] - 0s 16ms/step - loss: 0.5323\n"
     ]
    }
   ],
   "source": [
    "X = keras_ready[:,:-1,:]\n",
    "Y = keras_ready[:,1:,:]\n",
    "h = model.fit(x=X, y=Y, batch_size=1, epochs=18)"
   ]
  },
  {
   "cell_type": "code",
   "execution_count": 189,
   "metadata": {},
   "outputs": [
    {
     "data": {
      "text/plain": [
       "<matplotlib.axes._subplots.AxesSubplot at 0x12d8b3780>"
      ]
     },
     "execution_count": 189,
     "metadata": {},
     "output_type": "execute_result"
    },
    {
     "data": {
      "image/png": "[encoded data removed]",
      "text/plain": [
       "<matplotlib.figure.Figure at 0x12db0b470>"
      ]
     },
     "metadata": {},
     "output_type": "display_data"
    }
   ],
   "source": [
    "pd.Series(h.history['loss']).plot()"
   ]
  },
  {
   "cell_type": "code",
   "execution_count": 192,
   "metadata": {},
   "outputs": [
    {
     "name": "stdout",
     "output_type": "stream",
     "text": [
      "[11.   26.   -8.   16.25 15.    1.  ]\n",
      "[142.    11.    -8.    11.64   9.     1.  ]\n",
      "[ 17.    86.   -23.69  49.74   4.     1.  ]\n",
      "[ 12.   135.   -12.58  73.67   9.     1.  ]\n",
      "[ 15.   194.    -2.11  16.25  11.     1.  ]\n",
      "[141.   190.    -2.11  16.25  12.     1.  ]\n",
      "[ 53.   210.    34.66  39.42   6.     1.  ]\n",
      "[142.   280.    34.66  27.46   6.     1.  ]\n",
      "[184.   318.    34.66  18.56   6.     1.  ]\n",
      "[228.   353.    34.66  11.46   6.     1.  ]\n",
      "[ 73.   327.   -48.42  13.    22.     1.  ]\n",
      "[ 43.   321.    29.45  10.    29.     2.  ]\n",
      "[ 20.   344.    29.45   7.36  30.     2.  ]\n",
      "[0. 0. 0. 0. 0. 0.]\n",
      "[0. 0. 0. 0. 0. 0.]\n",
      "[0. 0. 0. 0. 0. 0.]\n",
      "[0. 0. 0. 0. 0. 0.]\n",
      "[0. 0. 0. 0. 0. 0.]\n",
      "[0. 0. 0. 0. 0. 0.]\n",
      "[0. 0. 0. 0. 0. 0.]\n",
      "[0. 0. 0. 0. 0. 0.]\n"
     ]
    }
   ],
   "source": [
    "def get_seq_from_model(input_feats):\n",
    "    seq = []\n",
    "    for thing in input_feats:\n",
    "        print(thing)\n",
    "        prediction = model.predict(np.reshape(scaler.transform([thing]), (1,1,6)))\n",
    "        seq.append(prediction)\n",
    "    return np.squeeze(np.concatenate(seq))\n",
    "\n",
    "results = get_seq_from_model(convert_to_padded_seqs(df)[0])"
   ]
  },
  {
   "cell_type": "code",
   "execution_count": 193,
   "metadata": {},
   "outputs": [],
   "source": [
    "res = pd.DataFrame(scaler.inverse_transform(results), columns=df.columns[1:])"
   ]
  },
  {
   "cell_type": "code",
   "execution_count": 195,
   "metadata": {},
   "outputs": [
    {
     "data": {
      "text/html": [
       "<div>\n",
       "<style scoped>\n",
       "    .dataframe tbody tr th:only-of-type {\n",
       "        vertical-align: middle;\n",
       "    }\n",
       "\n",
       "    .dataframe tbody tr th {\n",
       "        vertical-align: top;\n",
       "    }\n",
       "\n",
       "    .dataframe thead th {\n",
       "        text-align: right;\n",
       "    }\n",
       "</style>\n",
       "<table border=\"1\" class=\"dataframe\">\n",
       "  <thead>\n",
       "    <tr style=\"text-align: right;\">\n",
       "      <th></th>\n",
       "      <th>x</th>\n",
       "      <th>y</th>\n",
       "      <th>rotation</th>\n",
       "      <th>font_size</th>\n",
       "      <th>chars</th>\n",
       "      <th>lines</th>\n",
       "    </tr>\n",
       "  </thead>\n",
       "  <tbody>\n",
       "    <tr>\n",
       "      <th>0</th>\n",
       "      <td>101.860924</td>\n",
       "      <td>186.658264</td>\n",
       "      <td>0.831418</td>\n",
       "      <td>27.349586</td>\n",
       "      <td>21.650560</td>\n",
       "      <td>1.344181</td>\n",
       "    </tr>\n",
       "    <tr>\n",
       "      <th>1</th>\n",
       "      <td>109.895912</td>\n",
       "      <td>201.903320</td>\n",
       "      <td>-2.405199</td>\n",
       "      <td>23.987993</td>\n",
       "      <td>24.571165</td>\n",
       "      <td>1.351018</td>\n",
       "    </tr>\n",
       "    <tr>\n",
       "      <th>2</th>\n",
       "      <td>103.876205</td>\n",
       "      <td>191.602982</td>\n",
       "      <td>-0.757947</td>\n",
       "      <td>29.212898</td>\n",
       "      <td>22.053806</td>\n",
       "      <td>1.346501</td>\n",
       "    </tr>\n",
       "    <tr>\n",
       "      <th>3</th>\n",
       "      <td>103.168419</td>\n",
       "      <td>193.983765</td>\n",
       "      <td>-1.679997</td>\n",
       "      <td>30.160410</td>\n",
       "      <td>22.439985</td>\n",
       "      <td>1.340491</td>\n",
       "    </tr>\n",
       "    <tr>\n",
       "      <th>4</th>\n",
       "      <td>105.328506</td>\n",
       "      <td>193.663956</td>\n",
       "      <td>-1.733243</td>\n",
       "      <td>28.356825</td>\n",
       "      <td>21.025604</td>\n",
       "      <td>1.353309</td>\n",
       "    </tr>\n",
       "    <tr>\n",
       "      <th>5</th>\n",
       "      <td>111.354683</td>\n",
       "      <td>206.577927</td>\n",
       "      <td>-3.933034</td>\n",
       "      <td>24.459982</td>\n",
       "      <td>22.907776</td>\n",
       "      <td>1.354287</td>\n",
       "    </tr>\n",
       "    <tr>\n",
       "      <th>6</th>\n",
       "      <td>105.401566</td>\n",
       "      <td>198.432968</td>\n",
       "      <td>-3.794040</td>\n",
       "      <td>28.022846</td>\n",
       "      <td>22.466911</td>\n",
       "      <td>1.333287</td>\n",
       "    </tr>\n",
       "    <tr>\n",
       "      <th>7</th>\n",
       "      <td>110.817856</td>\n",
       "      <td>209.890381</td>\n",
       "      <td>-5.846337</td>\n",
       "      <td>24.978666</td>\n",
       "      <td>22.240440</td>\n",
       "      <td>1.336953</td>\n",
       "    </tr>\n",
       "    <tr>\n",
       "      <th>8</th>\n",
       "      <td>112.498993</td>\n",
       "      <td>212.934540</td>\n",
       "      <td>-6.161623</td>\n",
       "      <td>23.064922</td>\n",
       "      <td>21.547766</td>\n",
       "      <td>1.338602</td>\n",
       "    </tr>\n",
       "    <tr>\n",
       "      <th>9</th>\n",
       "      <td>113.414146</td>\n",
       "      <td>214.676987</td>\n",
       "      <td>-6.187781</td>\n",
       "      <td>21.145607</td>\n",
       "      <td>20.811314</td>\n",
       "      <td>1.336543</td>\n",
       "    </tr>\n",
       "    <tr>\n",
       "      <th>10</th>\n",
       "      <td>110.701340</td>\n",
       "      <td>204.492004</td>\n",
       "      <td>-2.344282</td>\n",
       "      <td>26.190285</td>\n",
       "      <td>20.911177</td>\n",
       "      <td>1.375460</td>\n",
       "    </tr>\n",
       "    <tr>\n",
       "      <th>11</th>\n",
       "      <td>105.743599</td>\n",
       "      <td>199.892685</td>\n",
       "      <td>-3.060098</td>\n",
       "      <td>28.272556</td>\n",
       "      <td>21.649790</td>\n",
       "      <td>1.305997</td>\n",
       "    </tr>\n",
       "    <tr>\n",
       "      <th>12</th>\n",
       "      <td>105.470390</td>\n",
       "      <td>198.978088</td>\n",
       "      <td>-2.809029</td>\n",
       "      <td>28.798599</td>\n",
       "      <td>21.272903</td>\n",
       "      <td>1.311466</td>\n",
       "    </tr>\n",
       "    <tr>\n",
       "      <th>13</th>\n",
       "      <td>101.559631</td>\n",
       "      <td>183.795441</td>\n",
       "      <td>1.377754</td>\n",
       "      <td>25.629852</td>\n",
       "      <td>20.271826</td>\n",
       "      <td>1.377552</td>\n",
       "    </tr>\n",
       "    <tr>\n",
       "      <th>14</th>\n",
       "      <td>101.559631</td>\n",
       "      <td>183.795441</td>\n",
       "      <td>1.377754</td>\n",
       "      <td>25.629852</td>\n",
       "      <td>20.271826</td>\n",
       "      <td>1.377552</td>\n",
       "    </tr>\n",
       "    <tr>\n",
       "      <th>15</th>\n",
       "      <td>101.559631</td>\n",
       "      <td>183.795441</td>\n",
       "      <td>1.377754</td>\n",
       "      <td>25.629852</td>\n",
       "      <td>20.271826</td>\n",
       "      <td>1.377552</td>\n",
       "    </tr>\n",
       "    <tr>\n",
       "      <th>16</th>\n",
       "      <td>101.559631</td>\n",
       "      <td>183.795441</td>\n",
       "      <td>1.377754</td>\n",
       "      <td>25.629852</td>\n",
       "      <td>20.271826</td>\n",
       "      <td>1.377552</td>\n",
       "    </tr>\n",
       "    <tr>\n",
       "      <th>17</th>\n",
       "      <td>101.559631</td>\n",
       "      <td>183.795441</td>\n",
       "      <td>1.377754</td>\n",
       "      <td>25.629852</td>\n",
       "      <td>20.271826</td>\n",
       "      <td>1.377552</td>\n",
       "    </tr>\n",
       "    <tr>\n",
       "      <th>18</th>\n",
       "      <td>101.559631</td>\n",
       "      <td>183.795441</td>\n",
       "      <td>1.377754</td>\n",
       "      <td>25.629852</td>\n",
       "      <td>20.271826</td>\n",
       "      <td>1.377552</td>\n",
       "    </tr>\n",
       "    <tr>\n",
       "      <th>19</th>\n",
       "      <td>101.559631</td>\n",
       "      <td>183.795441</td>\n",
       "      <td>1.377754</td>\n",
       "      <td>25.629852</td>\n",
       "      <td>20.271826</td>\n",
       "      <td>1.377552</td>\n",
       "    </tr>\n",
       "    <tr>\n",
       "      <th>20</th>\n",
       "      <td>101.559631</td>\n",
       "      <td>183.795441</td>\n",
       "      <td>1.377754</td>\n",
       "      <td>25.629852</td>\n",
       "      <td>20.271826</td>\n",
       "      <td>1.377552</td>\n",
       "    </tr>\n",
       "  </tbody>\n",
       "</table>\n",
       "</div>"
      ],
      "text/plain": [
       "             x           y  rotation  font_size      chars     lines\n",
       "0   101.860924  186.658264  0.831418  27.349586  21.650560  1.344181\n",
       "1   109.895912  201.903320 -2.405199  23.987993  24.571165  1.351018\n",
       "2   103.876205  191.602982 -0.757947  29.212898  22.053806  1.346501\n",
       "3   103.168419  193.983765 -1.679997  30.160410  22.439985  1.340491\n",
       "4   105.328506  193.663956 -1.733243  28.356825  21.025604  1.353309\n",
       "5   111.354683  206.577927 -3.933034  24.459982  22.907776  1.354287\n",
       "6   105.401566  198.432968 -3.794040  28.022846  22.466911  1.333287\n",
       "7   110.817856  209.890381 -5.846337  24.978666  22.240440  1.336953\n",
       "8   112.498993  212.934540 -6.161623  23.064922  21.547766  1.338602\n",
       "9   113.414146  214.676987 -6.187781  21.145607  20.811314  1.336543\n",
       "10  110.701340  204.492004 -2.344282  26.190285  20.911177  1.375460\n",
       "11  105.743599  199.892685 -3.060098  28.272556  21.649790  1.305997\n",
       "12  105.470390  198.978088 -2.809029  28.798599  21.272903  1.311466\n",
       "13  101.559631  183.795441  1.377754  25.629852  20.271826  1.377552\n",
       "14  101.559631  183.795441  1.377754  25.629852  20.271826  1.377552\n",
       "15  101.559631  183.795441  1.377754  25.629852  20.271826  1.377552\n",
       "16  101.559631  183.795441  1.377754  25.629852  20.271826  1.377552\n",
       "17  101.559631  183.795441  1.377754  25.629852  20.271826  1.377552\n",
       "18  101.559631  183.795441  1.377754  25.629852  20.271826  1.377552\n",
       "19  101.559631  183.795441  1.377754  25.629852  20.271826  1.377552\n",
       "20  101.559631  183.795441  1.377754  25.629852  20.271826  1.377552"
      ]
     },
     "execution_count": 195,
     "metadata": {},
     "output_type": "execute_result"
    }
   ],
   "source": [
    "res"
   ]
  },
  {
   "cell_type": "code",
   "execution_count": 194,
   "metadata": {},
   "outputs": [
    {
     "data": {
      "image/svg+xml": [
       "<svg height=\"400\" version=\"1.1\" width=\"300\" xmlns=\"http://www.w3.org/2000/svg\"><text font-size=\"27.349586\" transform=\"rotate(0.8314177989959717 101.86092376708984 186.65826416015625)\" x=\"101.86092\" y=\"186.65826\">dadatadadatadadatadad</text><text font-size=\"23.987993\" transform=\"rotate(-2.405198574066162 109.89591217041016 201.9033203125)\" x=\"109.89591\" y=\"201.90332\">dadatadadatadadatadadata</text><text font-size=\"29.212898\" transform=\"rotate(-0.7579470872879028 103.87620544433594 191.6029815673828)\" x=\"103.876205\" y=\"191.60298\">dadatadadatadadatadada</text><text font-size=\"30.16041\" transform=\"rotate(-1.6799966096878052 103.16841888427734 193.9837646484375)\" x=\"103.16842\" y=\"193.98376\">dadatadadatadadatadada</text><text font-size=\"28.356825\" transform=\"rotate(-1.7332432270050049 105.32850646972656 193.66395568847656)\" x=\"105.32851\" y=\"193.66396\">dadatadadatadadatadad</text><text font-size=\"24.459982\" transform=\"rotate(-3.9330341815948486 111.35468292236328 206.5779266357422)\" x=\"111.35468\" y=\"206.57793\">dadatadadatadadatadada</text><text font-size=\"28.022846\" transform=\"rotate(-3.7940402030944824 105.40156555175781 198.43296813964844)\" x=\"105.401566\" y=\"198.43297\">dadatadadatadadatadada</text><text font-size=\"24.978666\" transform=\"rotate(-5.846336841583252 110.81785583496094 209.890380859375)\" x=\"110.817856\" y=\"209.89038\">dadatadadatadadatadada</text><text font-size=\"23.064922\" transform=\"rotate(-6.161622524261475 112.49899291992188 212.93453979492188)\" x=\"112.49899\" y=\"212.93454\">dadatadadatadadatadad</text><text font-size=\"21.145607\" transform=\"rotate(-6.18778133392334 113.41414642333984 214.67698669433594)\" x=\"113.41415\" y=\"214.67699\">dadatadadatadadatada</text><text font-size=\"26.190285\" transform=\"rotate(-2.3442821502685547 110.70133972167969 204.49200439453125)\" x=\"110.70134\" y=\"204.492\">dadatadadatadadatada</text><text font-size=\"28.272556\" transform=\"rotate(-3.0600976943969727 105.74359893798828 199.89268493652344)\" x=\"105.7436\" y=\"199.89268\">dadatadadatadadatadad</text><text font-size=\"28.7986\" transform=\"rotate(-2.8090288639068604 105.47039031982422 198.97808837890625)\" x=\"105.47039\" y=\"198.97809\">dadatadadatadadatadad</text><text font-size=\"25.629852\" transform=\"rotate(1.3777542114257812 101.55963134765625 183.79544067382812)\" x=\"101.55963\" y=\"183.79544\">dadatadadatadadatada</text><text font-size=\"25.629852\" transform=\"rotate(1.3777542114257812 101.55963134765625 183.79544067382812)\" x=\"101.55963\" y=\"183.79544\">dadatadadatadadatada</text><text font-size=\"25.629852\" transform=\"rotate(1.3777542114257812 101.55963134765625 183.79544067382812)\" x=\"101.55963\" y=\"183.79544\">dadatadadatadadatada</text><text font-size=\"25.629852\" transform=\"rotate(1.3777542114257812 101.55963134765625 183.79544067382812)\" x=\"101.55963\" y=\"183.79544\">dadatadadatadadatada</text><text font-size=\"25.629852\" transform=\"rotate(1.3777542114257812 101.55963134765625 183.79544067382812)\" x=\"101.55963\" y=\"183.79544\">dadatadadatadadatada</text><text font-size=\"25.629852\" transform=\"rotate(1.3777542114257812 101.55963134765625 183.79544067382812)\" x=\"101.55963\" y=\"183.79544\">dadatadadatadadatada</text><text font-size=\"25.629852\" transform=\"rotate(1.3777542114257812 101.55963134765625 183.79544067382812)\" x=\"101.55963\" y=\"183.79544\">dadatadadatadadatada</text><text font-size=\"25.629852\" transform=\"rotate(1.3777542114257812 101.55963134765625 183.79544067382812)\" x=\"101.55963\" y=\"183.79544\">dadatadadatadadatada</text></svg>"
      ],
      "text/plain": [
       "<IPython.core.display.SVG object>"
      ]
     },
     "execution_count": 194,
     "metadata": {},
     "output_type": "execute_result"
    }
   ],
   "source": [
    "SVG(draw_poster(res))"
   ]
  },
  {
   "cell_type": "code",
   "execution_count": 96,
   "metadata": {},
   "outputs": [
    {
     "name": "stdout",
     "output_type": "stream",
     "text": [
      "[[0.04135338 0.05026455 0.52347383 0.06220572 0.08187135 0.        ]]\n",
      "[[0.53383459 0.01058201 0.52347383 0.04133466 0.04678363 0.        ]]\n",
      "[[0.06390977 0.20899471 0.46556433 0.21382651 0.01754386 0.        ]]\n",
      "[[0.04511278 0.33862434 0.50656972 0.32216588 0.04678363 0.        ]]\n",
      "[[0.05639098 0.49470899 0.54521296 0.06220572 0.05847953 0.        ]]\n",
      "[[0.53007519 0.48412698 0.54521296 0.06220572 0.06432749 0.        ]]\n",
      "[[0.19924812 0.53703704 0.68092567 0.16710431 0.02923977 0.        ]]\n",
      "[[0.53383459 0.72222222 0.68092567 0.11295726 0.02923977 0.        ]]\n",
      "[[0.69172932 0.82275132 0.68092567 0.07266389 0.02923977 0.        ]]\n",
      "[[0.85714286 0.91534392 0.68092567 0.04051974 0.02923977 0.        ]]\n",
      "[[0.27443609 0.84656085 0.37428951 0.04749185 0.12280702 0.        ]]\n",
      "[[0.16165414 0.83068783 0.66169632 0.03390982 0.16374269 0.1       ]]\n",
      "[[0.07518797 0.89153439 0.66169632 0.02195762 0.16959064 0.1       ]]\n",
      "[[ 0.         -0.01851852  0.55300066 -0.01136364 -0.00584795 -0.1       ]]\n",
      "[[ 0.         -0.01851852  0.55300066 -0.01136364 -0.00584795 -0.1       ]]\n",
      "[[ 0.         -0.01851852  0.55300066 -0.01136364 -0.00584795 -0.1       ]]\n",
      "[[ 0.         -0.01851852  0.55300066 -0.01136364 -0.00584795 -0.1       ]]\n",
      "[[ 0.         -0.01851852  0.55300066 -0.01136364 -0.00584795 -0.1       ]]\n",
      "[[ 0.         -0.01851852  0.55300066 -0.01136364 -0.00584795 -0.1       ]]\n",
      "[[ 0.         -0.01851852  0.55300066 -0.01136364 -0.00584795 -0.1       ]]\n",
      "[[ 0.         -0.01851852  0.55300066 -0.01136364 -0.00584795 -0.1       ]]\n"
     ]
    }
   ],
   "source": [
    "for thing in convert_to_padded_seqs(df)[0]:\n",
    "    print()"
   ]
  },
  {
   "cell_type": "code",
   "execution_count": 44,
   "metadata": {},
   "outputs": [],
   "source": [
    "from IPython.display import SVG\n",
    "import xml.etree.ElementTree as ET\n",
    "import math\n",
    "\n",
    "def dadata(length):\n",
    "    return (\"dadata\" * math.ceil(length/6))[:length]\n",
    "\n",
    "def draw_poster(data):\n",
    "    svg = ET.Element('svg', xmlns=\"http://www.w3.org/2000/svg\", version=\"1.1\",\n",
    "                     height=\"400\", width=\"300\")\n",
    "    txt_settings = {\n",
    "        \"text_anchor\":\"start\",\n",
    "        \"font-family\":\"Helvetica Neue\",\n",
    "        \n",
    "    }\n",
    "    for ix, row in data.iterrows():\n",
    "        text = ET.SubElement(svg,\"text\", \n",
    "                             x=str(row.x), y=str(row.y),\n",
    "                             transform=\"rotate({} {} {})\".format(row.rotation, row.x, row.y),\n",
    "                             #TODO: WEIGHT\n",
    "                            )\n",
    "        text.set('font-size', str(row.font_size))\n",
    "        text.text=dadata(int(row.chars))\n",
    "    return ET.tostring(svg)"
   ]
  },
  {
   "cell_type": "code",
   "execution_count": 162,
   "metadata": {},
   "outputs": [
    {
     "data": {
      "image/svg+xml": [
       "<svg height=\"400\" version=\"1.1\" width=\"300\" xmlns=\"http://www.w3.org/2000/svg\"><text font-size=\"16.25\" transform=\"rotate(-8.0 11.0 26.0)\" x=\"11.0\" y=\"26.0\">dadatadadatadad</text><text font-size=\"11.64\" transform=\"rotate(-8.0 142.0 11.0)\" x=\"142.0\" y=\"11.0\">dadatadad</text><text font-size=\"49.74\" transform=\"rotate(-23.69 17.0 86.0)\" x=\"17.0\" y=\"86.0\">dada</text><text font-size=\"73.67\" transform=\"rotate(-12.58 12.0 135.0)\" x=\"12.0\" y=\"135.0\">dadatadad</text><text font-size=\"16.25\" transform=\"rotate(-2.11 15.0 194.0)\" x=\"15.0\" y=\"194.0\">dadatadadat</text><text font-size=\"16.25\" transform=\"rotate(-2.11 141.0 190.0)\" x=\"141.0\" y=\"190.0\">dadatadadata</text><text font-size=\"39.42\" transform=\"rotate(34.660000000000025 53.0 210.0)\" x=\"53.0\" y=\"210.0\">dadata</text><text font-size=\"27.46\" transform=\"rotate(34.660000000000025 142.0 280.0)\" x=\"142.0\" y=\"280.0\">dadata</text><text font-size=\"18.56\" transform=\"rotate(34.660000000000025 184.0 318.0)\" x=\"184.0\" y=\"318.0\">dadata</text><text font-size=\"11.46\" transform=\"rotate(34.660000000000025 228.0 353.0)\" x=\"228.0\" y=\"353.0\">dadata</text><text font-size=\"13.0\" transform=\"rotate(-48.42 73.0 327.0)\" x=\"73.0\" y=\"327.0\">dadatadadatadadatadada</text><text font-size=\"10.0\" transform=\"rotate(29.44999999999999 43.0 321.0)\" x=\"43.0\" y=\"321.0\">dadatadadatadadatadadatadadat</text></svg>"
      ],
      "text/plain": [
       "<IPython.core.display.SVG object>"
      ]
     },
     "execution_count": 162,
     "metadata": {},
     "output_type": "execute_result"
    }
   ],
   "source": [
    "SVG(draw_poster(df[:12]))"
   ]
  },
  {
   "cell_type": "code",
   "execution_count": null,
   "metadata": {},
   "outputs": [],
   "source": [
    "df. "
   ]
  }
 ],
 "metadata": {
  "colab": {
   "default_view": {},
   "name": "dadata.ipynb",
   "provenance": [],
   "version": "0.3.2",
   "views": {}
  },
  "kernelspec": {
   "display_name": "Python 3",
   "language": "python",
   "name": "python3"
  },
  "language_info": {
   "codemirror_mode": {
    "name": "ipython",
    "version": 3
   },
   "file_extension": ".py",
   "mimetype": "text/x-python",
   "name": "python",
   "nbconvert_exporter": "python",
   "pygments_lexer": "ipython3",
   "version": "3.6.2"
  }
 },
 "nbformat": 4,
 "nbformat_minor": 1
}
